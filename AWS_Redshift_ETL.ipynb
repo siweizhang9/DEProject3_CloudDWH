{
 "cells": [
  {
   "cell_type": "code",
   "execution_count": 1,
   "metadata": {},
   "outputs": [],
   "source": [
    "import psycopg2\n",
    "import configparser\n",
    "from sql_queries import *"
   ]
  },
  {
   "cell_type": "code",
   "execution_count": 2,
   "metadata": {},
   "outputs": [
    {
     "name": "stdout",
     "output_type": "stream",
     "text": [
      "host=siweiredshift.cgrmsb95kk9b.us-west-2.redshift.amazonaws.com dbname=dev user=siwei password=Passw0rd port=5439\n"
     ]
    }
   ],
   "source": [
    "config = configparser.ConfigParser()\n",
    "config.read('dwh.cfg')\n",
    "\n",
    "print(\"host={} dbname={} user={} password={} port={}\".format(*config['CLUSTER'].values()))"
   ]
  },
  {
   "cell_type": "code",
   "execution_count": 3,
   "metadata": {},
   "outputs": [],
   "source": [
    "DWH_ROLE_ARN = config.get('IAM_ROLE', 'ARN')\n",
    "LOG_DATA = config.get('S3', 'LOG_DATA')\n",
    "LOG_JSONPATH = config.get('S3', 'LOG_JSONPATH')\n",
    "SONG_DATA = config.get('S3', 'SONG_DATA')\n",
    "HOST = config.get('CLUSTER', 'HOST')\n",
    "staging_songs_table_drop = (\"\"\"\n",
    "DROP TABLE IF EXISTS staging_songs_table\n",
    "\"\"\")\n",
    "staging_songs_table_create = (\"\"\"\n",
    "CREATE TABLE IF NOT EXISTS staging_songs_table\n",
    "(num_songs INTEGER,\n",
    "artist_id VARCHAR NOT NULL,\n",
    "artist_lattitude DOUBLE PRECISION,\n",
    "artist_longitude DOUBLE PRECISION,\n",
    "artist_location VARCHAR,\n",
    "artist_name VARCHAR,\n",
    "song_id VARCHAR PRIMARY KEY,\n",
    "title VARCHAR NOT NULL,\n",
    "duration DECIMAL NOT NULL,\n",
    "year SMALLINT\n",
    ")\n",
    "\"\"\")\n",
    "staging_songs_copy = (\"\"\"\n",
    "copy staging_songs_table from {}\n",
    "iam_role  {}\n",
    "json 'auto'\n",
    "\"\"\").format(SONG_DATA, DWH_ROLE_ARN)"
   ]
  },
  {
   "attachments": {},
   "cell_type": "markdown",
   "metadata": {},
   "source": [
    "### Set up connection to Redshift Cluster"
   ]
  },
  {
   "cell_type": "code",
   "execution_count": 4,
   "metadata": {},
   "outputs": [],
   "source": [
    "\n",
    "aws_db_paremeters = (\"\"\"\n",
    "host = {}\n",
    "dbname = dev\n",
    "user = siwei\n",
    "password = Passw0rd\n",
    "port = 5439\n",
    "\"\"\").format(HOST)"
   ]
  },
  {
   "attachments": {},
   "cell_type": "markdown",
   "metadata": {},
   "source": [
    "### Copy stating_songs_table rom S3"
   ]
  },
  {
   "cell_type": "code",
   "execution_count": 31,
   "metadata": {},
   "outputs": [],
   "source": [
    "cur = conn.cursor()\n",
    "try:\n",
    "    cur.execute(staging_songs_table_drop)\n",
    "    cur.execute(staging_songs_table_create)\n",
    "    cur.execute(staging_songs_copy)\n",
    "    conn.commit()\n",
    "except Exception as e:\n",
    "    print(e)\n",
    "# row = cur.fetchone()\n",
    "# print(row)\n",
    "conn.close()"
   ]
  },
  {
   "attachments": {},
   "cell_type": "markdown",
   "metadata": {},
   "source": [
    "### Drop, Create and Insert data into time_table"
   ]
  },
  {
   "cell_type": "code",
   "execution_count": 46,
   "metadata": {},
   "outputs": [],
   "source": [
    "time_table_drop = \"DROP TABLE IF EXISTS time_table\"\n",
    "\n",
    "time_table_create = (\"\"\"\n",
    "CREATE TABLE IF NOT EXISTS time_table\n",
    "(start_time_stamp INT8 PRIMARY KEY,\n",
    "start_time TIMESTAMP,\n",
    "hour SMALLINT,\n",
    "day SMALLINT,\n",
    "week SMALLINT,\n",
    "month SMALLINT,\n",
    "year SMALLINT,\n",
    "weekday SMALLINT\n",
    ")\n",
    "\"\"\")\n",
    "\n",
    "time_table_insert = (\"\"\"\n",
    "INSERT INTO time_table\n",
    "(start_time_stamp, start_time, hour, day, week, month, year, weekday)\n",
    "(SELECT\n",
    "ts,\n",
    "TIMESTAMP 'epoch' + ts/1000 *INTERVAL '1 second' as start_time,\n",
    "extract (hour from start_time),\n",
    "extract (day from start_time),\n",
    "extract (week from start_time),\n",
    "extract (month from start_time),\n",
    "extract (year from start_time),\n",
    "extract (dow from start_time)\n",
    "FROM staging_events_table\n",
    "WHERE page = 'NextSong')\n",
    "\"\"\")"
   ]
  },
  {
   "cell_type": "code",
   "execution_count": 47,
   "metadata": {},
   "outputs": [],
   "source": [
    "conn = psycopg2.connect(aws_db_paremeters)\n",
    "cur = conn.cursor()\n",
    "try:\n",
    "    cur.execute(time_table_drop)\n",
    "    cur.execute(time_table_create)\n",
    "    cur.execute(time_table_insert)\n",
    "    conn.commit()\n",
    "except Exception as e:\n",
    "    print(e)\n",
    "# row = cur.fetchone()\n",
    "# print(row)\n",
    "conn.close()"
   ]
  },
  {
   "attachments": {},
   "cell_type": "markdown",
   "metadata": {},
   "source": [
    "### Drop, Create and Insert songplay_table"
   ]
  },
  {
   "cell_type": "code",
   "execution_count": 59,
   "metadata": {},
   "outputs": [],
   "source": [
    "songplay_table_insert = (\"\"\"\n",
    "INSERT INTO songplay_table\n",
    "(start_time_stamp, user_id, level, song_id, artist_id, session_id, location, user_agent)\n",
    "SELECT \n",
    "t.start_time,\n",
    "se.userId,\n",
    "se.level,\n",
    "ss.song_id,\n",
    "ss.artist_id,\n",
    "se.sessionId,\n",
    "se.location,\n",
    "se.userAgent\n",
    "FROM staging_events_table se\n",
    "JOIN time_table t\n",
    "ON se.ts = t.start_time_stamp\n",
    "JOIN staging_songs_table ss\n",
    "ON (se.song = ss.title) AND (se.artist = ss.artist_name)\n",
    "\"\"\")\n",
    "\n",
    "songplay_table_create = (\"\"\"\n",
    "CREATE TABLE IF NOT EXISTS songplay_table\n",
    "(songplay_id INT IDENTITY(0, 1) PRIMARY KEY,\n",
    "start_time_stamp TIMESTAMP NOT NULL,\n",
    "user_id INTEGER NOT NULL,\n",
    "level VARCHAR,\n",
    "song_id VARCHAR,\n",
    "artist_id VARCHAR,\n",
    "session_id INTEGER,\n",
    "location VARCHAR,\n",
    "user_agent VARCHAR\n",
    ")\n",
    "\"\"\")"
   ]
  },
  {
   "cell_type": "code",
   "execution_count": 60,
   "metadata": {},
   "outputs": [],
   "source": [
    "conn = psycopg2.connect(aws_db_paremeters)\n",
    "cur = conn.cursor()\n",
    "try:\n",
    "    cur.execute(songplay_table_drop)\n",
    "    cur.execute(songplay_table_create)\n",
    "    cur.execute(songplay_table_insert)\n",
    "    conn.commit()\n",
    "except Exception as e:\n",
    "    print(e)\n",
    "conn.close()"
   ]
  },
  {
   "attachments": {},
   "cell_type": "markdown",
   "metadata": {},
   "source": [
    "### Drop, Create and Insert user_table"
   ]
  },
  {
   "cell_type": "code",
   "execution_count": 7,
   "metadata": {},
   "outputs": [],
   "source": [
    "user_table_create = (\"\"\"\n",
    "CREATE TABLE IF NOT EXISTS user_table\n",
    "(user_id INTEGER PRIMARY KEY,\n",
    "first_name VARCHAR,\n",
    "last_name VARCHAR,\n",
    "gender CHAR(1),\n",
    "level CHAR(10)\n",
    ")\n",
    "\"\"\")\n",
    "user_table_insert = (\"\"\"\n",
    "INSERT INTO user_table\n",
    "(user_id, first_name, last_name, gender, level)\n",
    "SELECT userId, firstName, lastName, gender, level\n",
    "FROM staging_events_table\n",
    "WHERE userId is not null;\n",
    "\"\"\")\n",
    "user_table_distinct = (\"\"\"\n",
    "BEGIN;\n",
    "CREATE TABLE temp1 AS SELECT DISTINCT * FROM user_table;\n",
    "ALTER TABLE user_table RENAME TO temp2;\n",
    "ALTER TABLE temp1 RENAME TO user_table;\n",
    "DROP TABLE temp2;\n",
    "COMMIT;\n",
    "\"\"\")"
   ]
  },
  {
   "cell_type": "code",
   "execution_count": 8,
   "metadata": {},
   "outputs": [],
   "source": [
    "conn = psycopg2.connect(aws_db_paremeters)\n",
    "cur = conn.cursor()\n",
    "try:\n",
    "    cur.execute(user_table_drop)\n",
    "    cur.execute(user_table_create)\n",
    "    cur.execute(user_table_insert)\n",
    "    cur.execute(user_table_distinct)\n",
    "    conn.commit()\n",
    "except Exception as e:\n",
    "    print(e)\n",
    "conn.close()"
   ]
  },
  {
   "attachments": {},
   "cell_type": "markdown",
   "metadata": {},
   "source": [
    "### Drop, Create and Insert song_table"
   ]
  },
  {
   "cell_type": "code",
   "execution_count": 5,
   "metadata": {},
   "outputs": [],
   "source": [
    "song_table_drop = \"DROP TABLE IF EXISTS song_table\"\n",
    "song_table_create = (\"\"\"\n",
    "CREATE TABLE IF NOT EXISTS song_table\n",
    "(song_id VARCHAR PRIMARY KEY,\n",
    "title VARCHAR NOT NULL,\n",
    "artist_id VARCHAR,\n",
    "year INTEGER,\n",
    "duration DECIMAL NOT NULL\n",
    ")\n",
    "\"\"\")\n",
    "song_table_insert = (\"\"\"\n",
    "INSERT INTO song_table\n",
    "(song_id, title, artist_id, year, duration)\n",
    "SELECT song_id, title, artist_id, year, duration\n",
    "FROM staging_songs_table\n",
    "\"\"\")\n"
   ]
  },
  {
   "cell_type": "code",
   "execution_count": 6,
   "metadata": {},
   "outputs": [],
   "source": [
    "conn = psycopg2.connect(aws_db_paremeters)\n",
    "cur = conn.cursor()\n",
    "try:\n",
    "    cur.execute(song_table_drop)\n",
    "    cur.execute(song_table_create)\n",
    "    cur.execute(song_table_insert)\n",
    "    conn.commit()\n",
    "except Exception as e:\n",
    "    print(e)\n",
    "conn.close()"
   ]
  },
  {
   "attachments": {},
   "cell_type": "markdown",
   "metadata": {},
   "source": [
    "### Drop, Create and Insert artist_table"
   ]
  },
  {
   "cell_type": "code",
   "execution_count": 10,
   "metadata": {},
   "outputs": [],
   "source": [
    "artist_table_drop = \"DROP TABLE IF EXISTS artist_table\"\n",
    "\n",
    "artist_table_create = (\"\"\"\n",
    "CREATE TABLE IF NOT EXISTS artist_table\n",
    "(artist_id VARCHAR PRIMARY KEY,\n",
    "name VARCHAR NOT NULL,\n",
    "location VARCHAR,\n",
    "lattitude double precision,\n",
    "longitude double precision\n",
    ")\n",
    "\"\"\")\n",
    "\n",
    "artist_table_insert = (\"\"\"\n",
    "INSERT INTO artist_table\n",
    "(artist_id, name, location, lattitude, longitude)\n",
    "SELECT artist_id, artist_name, artist_location, artist_lattitude, artist_longitude\n",
    "FROM staging_songs_table\n",
    "\"\"\")\n",
    "\n",
    "artist_table_distinct = (\n",
    "\"\"\"\n",
    "BEGIN;\n",
    "CREATE TABLE temp1 AS SELECT DISTINCT * FROM artist_table;\n",
    "ALTER TABLE artist_table RENAME TO temp2;\n",
    "ALTER TABLE temp1 RENAME TO artist_table;\n",
    "DROP TABLE temp2;\n",
    "COMMIT;\n",
    "\"\"\"\n",
    ")\n",
    "\n"
   ]
  },
  {
   "cell_type": "code",
   "execution_count": 11,
   "metadata": {},
   "outputs": [],
   "source": [
    "conn = psycopg2.connect(aws_db_paremeters)\n",
    "cur = conn.cursor()\n",
    "try:\n",
    "    cur.execute(artist_table_drop)\n",
    "    cur.execute(artist_table_create)\n",
    "    cur.execute(artist_table_insert)\n",
    "    cur.execute(artist_table_distinct)\n",
    "    conn.commit()\n",
    "except Exception as e:\n",
    "    print(e)\n",
    "conn.close()"
   ]
  }
 ],
 "metadata": {
  "kernelspec": {
   "display_name": "Python 3",
   "language": "python",
   "name": "python3"
  },
  "language_info": {
   "codemirror_mode": {
    "name": "ipython",
    "version": 3
   },
   "file_extension": ".py",
   "mimetype": "text/x-python",
   "name": "python",
   "nbconvert_exporter": "python",
   "pygments_lexer": "ipython3",
   "version": "3.8.2"
  },
  "orig_nbformat": 4,
  "vscode": {
   "interpreter": {
    "hash": "570feb405e2e27c949193ac68f46852414290d515b0ba6e5d90d076ed2284471"
   }
  }
 },
 "nbformat": 4,
 "nbformat_minor": 2
}
